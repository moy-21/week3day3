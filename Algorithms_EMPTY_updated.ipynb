{
 "cells": [
  {
   "cell_type": "markdown",
   "metadata": {},
   "source": [
    "# Classic Algorithms"
   ]
  },
  {
   "cell_type": "markdown",
   "metadata": {},
   "source": [
    "## Tasks Today:\n",
    "\n",
    "<b>Continue from yesterday:</b><br>\n",
    "&nbsp;&nbsp;&nbsp;&nbsp; - Generators\n",
    " \n",
    "1) <b>In-Place Algorithms</b> <br>\n",
    " &nbsp;&nbsp;&nbsp;&nbsp; a) Syntax <br>\n",
    " &nbsp;&nbsp;&nbsp;&nbsp; a) Out of Place Algorithm <br>\n",
    " &nbsp;&nbsp;&nbsp;&nbsp; b) In-Class Exercise #1 <br>\n",
    "2) <b>Two Pointers</b> <br>\n",
    "3) <b>Sorting Algorithms</b> <br>\n",
    "4) <b>Merge Sort</b> <br>\n",
    " &nbsp;&nbsp;&nbsp;&nbsp; a) Video on Algorithms <br>\n",
    " &nbsp;&nbsp;&nbsp;&nbsp; b) How it Works <br>\n",
    "5) <b>Exercises</b> <br>\n",
    " &nbsp;&nbsp;&nbsp;&nbsp; a) Exercise #1 - Reverse a List in Place Using an In-Place Algorithm <br>\n",
    " &nbsp;&nbsp;&nbsp;&nbsp; b) Exercise #2 - Find Distinct Words <br>\n",
    " &nbsp;&nbsp;&nbsp;&nbsp; c) Exercise #3 - Write a program to implement a Linear Search Algorithm. <br>"
   ]
  },
  {
   "cell_type": "markdown",
   "metadata": {},
   "source": [
    "## Generators <br>\n",
    "<p>Generators are a type of iterable, like lists or tuples. They do not allow indexing, but they can still be iterated through with for loops. They are created using functions and the yield statement.</p>"
   ]
  },
  {
   "cell_type": "code",
   "execution_count": 4,
   "metadata": {},
   "outputs": [
    {
     "name": "stdout",
     "output_type": "stream",
     "text": [
      "<generator object myRange at 0x7feb6eeec0b0>\n",
      "4\n",
      "6\n",
      "8\n",
      "10\n",
      "12\n",
      "14\n",
      "16\n",
      "18\n"
     ]
    }
   ],
   "source": [
    "def myRange(start, stop, step=2):\n",
    "    while start<stop:\n",
    "        yield start\n",
    "        start += step\n",
    "        \n",
    "x = myRange(4,20)\n",
    "print(x)\n",
    "for i in x:\n",
    "    print(i)"
   ]
  },
  {
   "cell_type": "markdown",
   "metadata": {},
   "source": [
    "#### Yield Keyword <br>\n",
    "<p>The yield keyword denotes a generator, it doesn't return so it won't leave the function and reset all variables in the function scope, instead it yields the number back to the caller.</p>"
   ]
  },
  {
   "cell_type": "code",
   "execution_count": null,
   "metadata": {},
   "outputs": [],
   "source": []
  },
  {
   "cell_type": "markdown",
   "metadata": {},
   "source": [
    "#### Infinite Generator"
   ]
  },
  {
   "cell_type": "code",
   "execution_count": null,
   "metadata": {},
   "outputs": [],
   "source": [
    "# bad!! never create infinite loops"
   ]
  },
  {
   "cell_type": "code",
   "execution_count": null,
   "metadata": {},
   "outputs": [],
   "source": []
  },
  {
   "cell_type": "markdown",
   "metadata": {},
   "source": [
    "#### In-Class Exercise #6 <br>\n",
    "<p>Create a generator that takes a number argument and yields that number squared, then prints each number squared until zero is reached.</p>"
   ]
  },
  {
   "cell_type": "code",
   "execution_count": null,
   "metadata": {},
   "outputs": [],
   "source": []
  },
  {
   "cell_type": "markdown",
   "metadata": {},
   "source": [
    "## In-Place Algorithms"
   ]
  },
  {
   "cell_type": "markdown",
   "metadata": {},
   "source": [
    "#### Syntax"
   ]
  },
  {
   "cell_type": "code",
   "execution_count": 7,
   "metadata": {},
   "outputs": [
    {
     "name": "stdout",
     "output_type": "stream",
     "text": [
      "[4, 20, 10, 5, 13]\n",
      "[4, 13, 10, 5, 20]\n",
      "None\n"
     ]
    }
   ],
   "source": [
    "def swap(list1, x, y):\n",
    "    list1[x],list1[y]= list1[y],list1[x]\n",
    "    return\n",
    "my_list = [4,20,10,5,13]\n",
    "print(my_list)\n",
    "output = swap(my_list, 1,-1)\n",
    "print(my_list)\n",
    "print(output)\n",
    "\n",
    "    "
   ]
  },
  {
   "cell_type": "markdown",
   "metadata": {},
   "source": [
    "#### Out of Place Algorithm"
   ]
  },
  {
   "cell_type": "code",
   "execution_count": 8,
   "metadata": {},
   "outputs": [
    {
     "name": "stdout",
     "output_type": "stream",
     "text": [
      "[4, 20, 10, 5, 13]\n",
      "[4, 20, 10, 5, 13]\n",
      "[4, 13, 10, 5, 20]\n"
     ]
    }
   ],
   "source": [
    "def swap(list1, x, y):\n",
    "    copy = list1[:]\n",
    "    copy[x],copy[y]= list1[y],list1[x]\n",
    "    return copy\n",
    "my_list = [4,20,10,5,13]\n",
    "print(my_list)\n",
    "output = swap(my_list, 1,-1)\n",
    "print(my_list)\n",
    "print(output)\n",
    "\n",
    "    \n"
   ]
  },
  {
   "cell_type": "markdown",
   "metadata": {},
   "source": [
    "#### In-Class Exercise #1 <br>\n",
    "<p>Write a function that takes in four arguments (list, index1, index2, index3), and swaps those three positions in the list passed in.</p>"
   ]
  },
  {
   "cell_type": "code",
   "execution_count": 14,
   "metadata": {},
   "outputs": [
    {
     "name": "stdout",
     "output_type": "stream",
     "text": [
      "[10, 4, 3, 8, 4, 2, 6]\n",
      "[10, 4, 3, 8, 4, 2, 6]\n"
     ]
    }
   ],
   "source": [
    "l_1 = [10, 4, 3, 8, 4, 2, 6]\n",
    "def swap(list1, one, two, three):\n",
    "    list1[one],list1[two],list1[three]= list1[one],list1[two],list1[three]\n",
    "    return\n",
    "\n",
    "print(l_1)\n",
    "output2 = swap(l_1,2,3,0)\n",
    "print(l_1)\n",
    "\n"
   ]
  },
  {
   "cell_type": "markdown",
   "metadata": {},
   "source": [
    "## Two Pointers"
   ]
  },
  {
   "cell_type": "markdown",
   "metadata": {},
   "source": [
    "#### Syntax"
   ]
  },
  {
   "cell_type": "code",
   "execution_count": 16,
   "metadata": {},
   "outputs": [
    {
     "name": "stdout",
     "output_type": "stream",
     "text": [
      "[18, 7, 6, 9, 25, 3, 2, 14]\n"
     ]
    }
   ],
   "source": [
    "def twoPointer(list1):\n",
    "    left = 0\n",
    "    right = len(list1)-1\n",
    "    while left < right:\n",
    "        list1[left], list1[right] = list1[right], list1[left]\n",
    "        left += 1\n",
    "        right -= 1\n",
    "    return\n",
    "\n",
    "my_list = [14,2,3,25,9,6,7,18]\n",
    "twoPointer(my_list)\n",
    "\n",
    "print(my_list)"
   ]
  },
  {
   "cell_type": "markdown",
   "metadata": {},
   "source": [
    "#### Video of Algorithms <br>\n",
    "<p>Watch the video about algorithms.</p>\n",
    "\n",
    "https://www.youtube.com/watch?v=Q9HjeFD62Uk\n",
    "\n",
    "https://www.youtube.com/watch?v=kPRA0W1kECg\n",
    "\n",
    "https://www.youtube.com/watch?v=ZZuD6iUe3Pc"
   ]
  },
  {
   "cell_type": "markdown",
   "metadata": {},
   "source": [
    "# Sorting Algorithms"
   ]
  },
  {
   "cell_type": "code",
   "execution_count": null,
   "metadata": {},
   "outputs": [],
   "source": []
  },
  {
   "cell_type": "markdown",
   "metadata": {},
   "source": [
    "#### Bubble Sort\n",
    "\n",
    "Worst Case: O(n^2) Time - O(1) Space"
   ]
  },
  {
   "cell_type": "code",
   "execution_count": null,
   "metadata": {},
   "outputs": [],
   "source": [
    "#### memorize algorithim\n",
    "\n",
    "\n",
    "def swap(list1, x, y):\n",
    "    list1[x], list1[y] = list1[y], list1[x]\n",
    "    return\n",
    "\n",
    "def bubbleSort(nums):\n",
    "    isSorted = False\n",
    "    count = 0\n",
    "    \n",
    "    while isSorted == False:\n",
    "        performedSwap = False\n",
    "        for i in range(len(nums)-1-count):\n",
    "            #if right num is smaller, then swap\n",
    "            if nums[i] > nums[i+1]:\n",
    "                swap(nums, i, i+1)\n",
    "                performedSwap = True\n",
    "                \n",
    "        if performedSwap == False:\n",
    "            \n",
    "            isSorted = True\n",
    "                \n",
    "        \n",
    "        count += 1\n",
    "        if count == len(nums)-1:\n",
    "            isSorted = True\n",
    "            \n",
    "myList = [1,7,18,21,4,5,20,22,10]\n",
    "sortedList = [1,2,3,4,5,6,7,8,9]\n",
    "bubbleSort(myList)\n",
    "print(myList)"
   ]
  },
  {
   "cell_type": "markdown",
   "metadata": {},
   "source": [
    "##### Insertion Sort\n",
    "\n",
    "Worst Case: O(n^2) time - O(1)space"
   ]
  },
  {
   "cell_type": "code",
   "execution_count": null,
   "metadata": {},
   "outputs": [],
   "source": [
    "def insertion(nums):\n",
    "    for i in range(1, len(nums)):\n",
    "        j- i"
   ]
  },
  {
   "cell_type": "markdown",
   "metadata": {},
   "source": [
    "## Merge Sort"
   ]
  },
  {
   "cell_type": "markdown",
   "metadata": {},
   "source": [
    "#### How it Works"
   ]
  },
  {
   "cell_type": "code",
   "execution_count": 17,
   "metadata": {},
   "outputs": [],
   "source": [
    "def mergeSort(nums):\n",
    "    #step 1: divide into equal halves\n",
    "    if len(nums)>1:\n",
    "        mid = len(nums)//2\n",
    "        lefthalf = nums[:mid]\n",
    "        righthalf = nums[mid:]\n",
    "        \n",
    "        # recursively split left and right halves if needed\n",
    "        mergeSort(lefthalf)\n",
    "        mergeSort(righthalf)\n",
    "        \n",
    "        # index pointer for 3 lists\n",
    "        i = 0 # pointer for the left \n",
    "        j = 0 # pointer for the right\n",
    "        k = 0 # pointer for the main list\n",
    "        \n",
    "        # step 2: merge lists\n",
    "        while i<len(lefthalf) and j<len(righthalf):\n",
    "            if lefthalf[i] < righthalf[j]:\n",
    "                nums[k] = lefthalf[i]\n",
    "                i += 1\n",
    "            else:\n",
    "                nums[k] = righthalf[j]\n",
    "                j += 1\n",
    "            k+=1\n",
    "            \n",
    "        #step 3: when one side finishes.. place the other list into the main array\n",
    "        while i < len(lefthalf):\n",
    "            nums[k] = lefthalf[i]\n",
    "            i+=1\n",
    "            k+=1\n",
    "        while j < len(righthalf):\n",
    "            nums[k] = righthalf[j]\n",
    "            j+=1\n",
    "            k+=1\n",
    "        \n",
    "    return"
   ]
  },
  {
   "cell_type": "markdown",
   "metadata": {},
   "source": [
    "# Binary Search\n",
    "\n",
    "The Binary Search algorithm works by finding the number in the middle of a given array and comparing it to the target. Given that the array is sorted\n",
    "\n",
    "* The worst case run time for this algorithm is `O(log(n))`"
   ]
  },
  {
   "cell_type": "code",
   "execution_count": null,
   "metadata": {},
   "outputs": [],
   "source": [
    "def binarySearch(list1, target):\n",
    "    left = 0\n",
    "    right = len(list1)\n",
    "    while left<right:\n",
    "        middle = (left + right) // 2\n",
    "        potentialMatch = list1[middle]\n",
    "        if target == potentialMatch:\n",
    "            return f'I found my match {potentialMatch} at index {middle}'\n",
    "        elif target < potentialMatch:\n",
    "            right = middle-1\n",
    "        else:\n",
    "            left = middle + 1\n",
    "    return \"Not Found\"\n",
    "\n",
    "x = sorted([1,2,534,765,32,3,54,43,534,645,74,543,432,643,65,5,54,34,3,42,554,54,3,3,3,3,5])\n",
    "print(x)\n",
    "binarySearch(x, 43)\n",
    "    "
   ]
  },
  {
   "cell_type": "markdown",
   "metadata": {},
   "source": [
    "# Exercises"
   ]
  },
  {
   "cell_type": "markdown",
   "metadata": {},
   "source": [
    "### Exercise #1 <br>\n",
    "<p>Reverse the list below in-place using an in-place algorithm.<br>For extra credit: Reverse the strings at the same time.</p>"
   ]
  },
  {
   "cell_type": "code",
   "execution_count": 22,
   "metadata": {},
   "outputs": [
    {
     "name": "stdout",
     "output_type": "stream",
     "text": [
      "None\n",
      "['.', 'sentence', 'a', 'is', 'this']\n"
     ]
    }
   ],
   "source": [
    "words = ['this' , 'is', 'a', 'sentence', '.']\n",
    "def reverse_list(list_, a,b,c,d,e):\n",
    "    list_[a],list_[b],list_[c],list_[d],list_[e] = list_[e],list_[d],list_[c],list_[b],list_[a]\n",
    "    return\n",
    "    \n",
    "output = reverse_list(words,0,1,2,3,4)\n",
    "print(output)\n",
    "print(words)\n"
   ]
  },
  {
   "cell_type": "markdown",
   "metadata": {},
   "source": [
    "### Exercise #2 <br>\n",
    "<p>Create a function that counts how many distinct words are in the string below, then outputs a dictionary with the words as the key and the value as the amount of times that word appears in the string.<br>Should output:<br>{'a': 5,<br>\n",
    " 'abstract': 1,<br>\n",
    " 'an': 3,<br>\n",
    " 'array': 2, ... etc...</p>"
   ]
  },
  {
   "cell_type": "code",
   "execution_count": 63,
   "metadata": {},
   "outputs": [
    {
     "name": "stdout",
     "output_type": "stream",
     "text": [
      "{'In': 1, 'computing,': 1, 'a': 4, 'hash': 4, 'table': 2, 'map': 2, 'is': 1, 'data': 2, 'structure': 2, 'which': 2, 'implements': 1, 'an': 3, 'associative': 1, 'array': 2, 'abstract': 1, 'type,': 1, 'that': 1, 'can': 2, 'keys': 1, 'to': 2, 'values.': 1, 'A': 1, 'uses': 1, 'function': 1, 'compute': 1, 'index': 1, 'into': 1, 'of': 1, 'buckets': 1, 'or': 1, 'slots': 1, 'from': 1, 'the': 1, 'desired': 1, 'value': 1, 'be': 1, 'found': 1}\n"
     ]
    }
   ],
   "source": [
    "a_text = 'In computing, a hash table hash map is a data structure which implements an associative array abstract data type, a structure that can map keys to values. A hash table uses a hash function to compute an index into an array of buckets or slots from which the desired value can be found'\n",
    "\n",
    "def distict_words(string_):\n",
    "    words = {}\n",
    "    \n",
    "    \n",
    "    for word in string_.split():\n",
    "        if word in words:\n",
    "            words[word]+= 1\n",
    "        else:\n",
    "            words[word] = 1\n",
    "        \n",
    "        \n",
    "    return words\n",
    "\n",
    "print(distict_words(a_text))\n",
    "            \n",
    "            \n"
   ]
  },
  {
   "cell_type": "markdown",
   "metadata": {},
   "source": [
    "## Exercise #3\n",
    "\n",
    "Write a program to implement a Linear Search Algorithm. Also in a comment, write the Time Complexity of the following algorithm.\n",
    "\n",
    "#### Hint: Linear Searching will require searching a list for a given number. "
   ]
  },
  {
   "cell_type": "code",
   "execution_count": 48,
   "metadata": {},
   "outputs": [
    {
     "name": "stdout",
     "output_type": "stream",
     "text": [
      "Found 2\n",
      "Not found\n",
      "Not found\n",
      "Not found\n",
      "Not found\n",
      "Not found\n",
      "Found 2\n"
     ]
    }
   ],
   "source": [
    "def looK_Up(list_,x):\n",
    "    len_ = len(list_)\n",
    "    for i in range(0,len_):\n",
    "        if list_[i] == x:\n",
    "            print(f'Found {x}')\n",
    "        else:\n",
    "            print(\"Not found\")\n",
    "    return\n",
    "\n",
    "list__ = [2,36,6,64,3,29,2]\n",
    "looK_Up(list__,2)"
   ]
  }
 ],
 "metadata": {
  "kernelspec": {
   "display_name": "Python 3 (ipykernel)",
   "language": "python",
   "name": "python3"
  },
  "language_info": {
   "codemirror_mode": {
    "name": "ipython",
    "version": 3
   },
   "file_extension": ".py",
   "mimetype": "text/x-python",
   "name": "python",
   "nbconvert_exporter": "python",
   "pygments_lexer": "ipython3",
   "version": "3.9.7"
  }
 },
 "nbformat": 4,
 "nbformat_minor": 2
}
